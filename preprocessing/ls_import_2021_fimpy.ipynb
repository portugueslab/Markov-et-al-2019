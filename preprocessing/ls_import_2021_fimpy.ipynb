{
 "cells": [
  {
   "cell_type": "code",
   "execution_count": 13,
   "metadata": {},
   "outputs": [],
   "source": [
    "from pathlib import Path\n",
    "from fimpy.pipeline.alignment import align_volumes_with_filtering\n",
    "from fimpy.pipeline.roi_extraction import correlation_map, grow_rois, extract_traces\n",
    "from split_dataset import SplitDataset\n",
    "import numpy as np\n",
    "from tqdm import tqdm\n",
    "import flammkuchen as fl\n",
    "from tifffile import imwrite"
   ]
  },
  {
   "cell_type": "code",
   "execution_count": 3,
   "metadata": {},
   "outputs": [
    {
     "data": {
      "text/plain": [
       "[WindowsPath('//FUNES/Shared/experiments/E0030_long_term_adaptation/210316_f2'),\n",
       " WindowsPath('//FUNES/Shared/experiments/E0030_long_term_adaptation/210316_f3'),\n",
       " WindowsPath('//FUNES/Shared/experiments/E0030_long_term_adaptation/210316_f4'),\n",
       " WindowsPath('//FUNES/Shared/experiments/E0030_long_term_adaptation/210316_f5'),\n",
       " WindowsPath('//FUNES/Shared/experiments/E0030_long_term_adaptation/210317_f0'),\n",
       " WindowsPath('//FUNES/Shared/experiments/E0030_long_term_adaptation/210317_f1'),\n",
       " WindowsPath('//FUNES/Shared/experiments/E0030_long_term_adaptation/210317_f2'),\n",
       " WindowsPath('//FUNES/Shared/experiments/E0030_long_term_adaptation/210317_f3'),\n",
       " WindowsPath('//FUNES/Shared/experiments/E0030_long_term_adaptation/210317_f4'),\n",
       " WindowsPath('//FUNES/Shared/experiments/E0030_long_term_adaptation/210320_f1'),\n",
       " WindowsPath('//FUNES/Shared/experiments/E0030_long_term_adaptation/210320_f2'),\n",
       " WindowsPath('//FUNES/Shared/experiments/E0030_long_term_adaptation/210320_f4'),\n",
       " WindowsPath('//FUNES/Shared/experiments/E0030_long_term_adaptation/210320_f6'),\n",
       " WindowsPath('//FUNES/Shared/experiments/E0030_long_term_adaptation/210321_f1'),\n",
       " WindowsPath('//FUNES/Shared/experiments/E0030_long_term_adaptation/210324_f0'),\n",
       " WindowsPath('//FUNES/Shared/experiments/E0030_long_term_adaptation/210324_f1'),\n",
       " WindowsPath('//FUNES/Shared/experiments/E0030_long_term_adaptation/210324_f2'),\n",
       " WindowsPath('//FUNES/Shared/experiments/E0030_long_term_adaptation/210324_f3'),\n",
       " WindowsPath('//FUNES/Shared/experiments/E0030_long_term_adaptation/210324_f4'),\n",
       " WindowsPath('//FUNES/Shared/experiments/E0030_long_term_adaptation/210324_f5'),\n",
       " WindowsPath('//FUNES/Shared/experiments/E0030_long_term_adaptation/210324_f6'),\n",
       " WindowsPath('//FUNES/Shared/experiments/E0030_long_term_adaptation/210324_f7'),\n",
       " WindowsPath('//FUNES/Shared/experiments/E0030_long_term_adaptation/210325_f0'),\n",
       " WindowsPath('//FUNES/Shared/experiments/E0030_long_term_adaptation/210325_f1'),\n",
       " WindowsPath('//FUNES/Shared/experiments/E0030_long_term_adaptation/210325_f2'),\n",
       " WindowsPath('//FUNES/Shared/experiments/E0030_long_term_adaptation/210325_f3'),\n",
       " WindowsPath('//FUNES/Shared/experiments/E0030_long_term_adaptation/210325_f5'),\n",
       " WindowsPath('//FUNES/Shared/experiments/E0030_long_term_adaptation/210325_f7'),\n",
       " WindowsPath('//FUNES/Shared/experiments/E0030_long_term_adaptation/210326_f0'),\n",
       " WindowsPath('//FUNES/Shared/experiments/E0030_long_term_adaptation/210326_f1'),\n",
       " WindowsPath('//FUNES/Shared/experiments/E0030_long_term_adaptation/210326_f2')]"
      ]
     },
     "execution_count": 3,
     "metadata": {},
     "output_type": "execute_result"
    }
   ],
   "source": [
    "master_path = Path(r\"\\\\FUNES\\Shared\\experiments\\E0030_long_term_adaptation\")\n",
    "flist = list(master_path.glob(\"*_f[0-9]*\"))\n",
    "flist"
   ]
  },
  {
   "cell_type": "code",
   "execution_count": null,
   "metadata": {},
   "outputs": [],
   "source": [
    "for file in tqdm(flist):\n",
    "    print(f\"----{file}-----\")\n",
    "    try: \n",
    "        SplitDataset(file / \"aligned\")\n",
    "        continue\n",
    "    except IndexError:\n",
    "        pass\n",
    "    \n",
    "    ds = SplitDataset(file / \"original\")\n",
    "    al = align_volumes_with_filtering(ds,\n",
    "                                        output_dir=None,\n",
    "                                        ref_window_halfsize=25,\n",
    "                                        fft_reference=None,\n",
    "                                        register_every=1,\n",
    "                                        reg_halfwin=1,\n",
    "                                        prefilter_sigma=3.3,\n",
    "                                        block_size=120,\n",
    "                                        verbose=True,\n",
    "                                        crop=False,\n",
    "                                        n_jobs=8\n",
    "                                    )"
   ]
  },
  {
   "cell_type": "code",
   "execution_count": null,
   "metadata": {},
   "outputs": [],
   "source": [
    "# Calculate correlation maps\n",
    "from fimpy.pipeline.roi_extraction import correlation_map\n",
    "\n",
    "time_lims=(50, 1600)\n",
    "\n",
    "for file in tqdm(flist):\n",
    "    print(f\"----{file}-----\")\n",
    "    try: \n",
    "        aligned = SplitDataset(file / \"aligned\")\n",
    "        cmap = correlation_map(aligned, time_lims=time_lims, window_size=(1, 3, 3), n_jobs=20)\n",
    "        \n",
    "    except:\n",
    "        print(\"Error while procesing \", file)\n",
    "    "
   ]
  },
  {
   "cell_type": "code",
   "execution_count": 4,
   "metadata": {},
   "outputs": [],
   "source": [
    "from bouter import Experiment"
   ]
  },
  {
   "cell_type": "code",
   "execution_count": 14,
   "metadata": {},
   "outputs": [
    {
     "name": "stderr",
     "output_type": "stream",
     "text": [
      "  0%|                                                                                           | 0/31 [00:00<?, ?it/s]"
     ]
    },
    {
     "name": "stdout",
     "output_type": "stream",
     "text": [
      "----\\\\FUNES\\Shared\\experiments\\E0030_long_term_adaptation\\210316_f2-----\n"
     ]
    },
    {
     "name": "stderr",
     "output_type": "stream",
     "text": [
      "  3%|██▌                                                                             | 1/31 [03:54<1:57:14, 234.47s/it]"
     ]
    },
    {
     "name": "stdout",
     "output_type": "stream",
     "text": [
      "----\\\\FUNES\\Shared\\experiments\\E0030_long_term_adaptation\\210316_f3-----\n"
     ]
    },
    {
     "name": "stderr",
     "output_type": "stream",
     "text": [
      "  6%|█████▏                                                                          | 2/31 [07:53<1:53:55, 235.71s/it]"
     ]
    },
    {
     "name": "stdout",
     "output_type": "stream",
     "text": [
      "----\\\\FUNES\\Shared\\experiments\\E0030_long_term_adaptation\\210316_f4-----\n"
     ]
    },
    {
     "name": "stderr",
     "output_type": "stream",
     "text": [
      " 10%|███████▋                                                                        | 3/31 [11:52<1:50:35, 236.97s/it]"
     ]
    },
    {
     "name": "stdout",
     "output_type": "stream",
     "text": [
      "----\\\\FUNES\\Shared\\experiments\\E0030_long_term_adaptation\\210316_f5-----\n"
     ]
    },
    {
     "name": "stderr",
     "output_type": "stream",
     "text": [
      " 13%|██████████▎                                                                     | 4/31 [16:01<1:48:10, 240.38s/it]"
     ]
    },
    {
     "name": "stdout",
     "output_type": "stream",
     "text": [
      "----\\\\FUNES\\Shared\\experiments\\E0030_long_term_adaptation\\210317_f0-----\n"
     ]
    },
    {
     "name": "stderr",
     "output_type": "stream",
     "text": [
      " 16%|████████████▉                                                                   | 5/31 [20:03<1:44:27, 241.06s/it]"
     ]
    },
    {
     "name": "stdout",
     "output_type": "stream",
     "text": [
      "----\\\\FUNES\\Shared\\experiments\\E0030_long_term_adaptation\\210317_f1-----\n"
     ]
    },
    {
     "name": "stderr",
     "output_type": "stream",
     "text": [
      " 19%|███████████████▍                                                                | 6/31 [23:44<1:37:51, 234.86s/it]"
     ]
    },
    {
     "name": "stdout",
     "output_type": "stream",
     "text": [
      "----\\\\FUNES\\Shared\\experiments\\E0030_long_term_adaptation\\210317_f2-----\n"
     ]
    },
    {
     "name": "stderr",
     "output_type": "stream",
     "text": [
      " 23%|██████████████████                                                              | 7/31 [31:09<1:59:08, 297.86s/it]"
     ]
    },
    {
     "name": "stdout",
     "output_type": "stream",
     "text": [
      "----\\\\FUNES\\Shared\\experiments\\E0030_long_term_adaptation\\210317_f3-----\n"
     ]
    },
    {
     "name": "stderr",
     "output_type": "stream",
     "text": [
      " 26%|████████████████████▋                                                           | 8/31 [52:47<3:49:16, 598.12s/it]"
     ]
    },
    {
     "name": "stdout",
     "output_type": "stream",
     "text": [
      "----\\\\FUNES\\Shared\\experiments\\E0030_long_term_adaptation\\210317_f4-----\n"
     ]
    },
    {
     "name": "stderr",
     "output_type": "stream",
     "text": [
      " 29%|███████████████████████▏                                                        | 9/31 [57:05<3:01:49, 495.90s/it]"
     ]
    },
    {
     "name": "stdout",
     "output_type": "stream",
     "text": [
      "----\\\\FUNES\\Shared\\experiments\\E0030_long_term_adaptation\\210320_f1-----\n"
     ]
    },
    {
     "name": "stderr",
     "output_type": "stream",
     "text": [
      " 32%|████████████████████████▊                                                    | 10/31 [1:00:32<2:23:15, 409.30s/it]"
     ]
    },
    {
     "name": "stdout",
     "output_type": "stream",
     "text": [
      "----\\\\FUNES\\Shared\\experiments\\E0030_long_term_adaptation\\210320_f2-----\n"
     ]
    },
    {
     "name": "stderr",
     "output_type": "stream",
     "text": [
      " 35%|███████████████████████████▎                                                 | 11/31 [1:04:13<1:57:38, 352.90s/it]"
     ]
    },
    {
     "name": "stdout",
     "output_type": "stream",
     "text": [
      "----\\\\FUNES\\Shared\\experiments\\E0030_long_term_adaptation\\210320_f4-----\n"
     ]
    },
    {
     "name": "stderr",
     "output_type": "stream",
     "text": [
      " 39%|█████████████████████████████▊                                               | 12/31 [1:07:51<1:38:55, 312.39s/it]"
     ]
    },
    {
     "name": "stdout",
     "output_type": "stream",
     "text": [
      "----\\\\FUNES\\Shared\\experiments\\E0030_long_term_adaptation\\210320_f6-----\n"
     ]
    },
    {
     "name": "stderr",
     "output_type": "stream",
     "text": [
      " 42%|████████████████████████████████▎                                            | 13/31 [1:14:45<1:42:51, 342.87s/it]"
     ]
    },
    {
     "name": "stdout",
     "output_type": "stream",
     "text": [
      "----\\\\FUNES\\Shared\\experiments\\E0030_long_term_adaptation\\210321_f1-----\n"
     ]
    },
    {
     "name": "stderr",
     "output_type": "stream",
     "text": [
      " 45%|██████████████████████████████████▊                                          | 14/31 [1:35:00<2:51:17, 604.55s/it]"
     ]
    },
    {
     "name": "stdout",
     "output_type": "stream",
     "text": [
      "----\\\\FUNES\\Shared\\experiments\\E0030_long_term_adaptation\\210324_f0-----\n"
     ]
    },
    {
     "name": "stderr",
     "output_type": "stream",
     "text": [
      " 48%|█████████████████████████████████████▎                                       | 15/31 [1:40:50<2:20:50, 528.14s/it]"
     ]
    },
    {
     "name": "stdout",
     "output_type": "stream",
     "text": [
      "----\\\\FUNES\\Shared\\experiments\\E0030_long_term_adaptation\\210324_f1-----\n"
     ]
    },
    {
     "name": "stderr",
     "output_type": "stream",
     "text": [
      " 52%|███████████████████████████████████████▋                                     | 16/31 [1:44:24<1:48:28, 433.92s/it]"
     ]
    },
    {
     "name": "stdout",
     "output_type": "stream",
     "text": [
      "----\\\\FUNES\\Shared\\experiments\\E0030_long_term_adaptation\\210324_f2-----\n"
     ]
    },
    {
     "name": "stderr",
     "output_type": "stream",
     "text": [
      " 55%|██████████████████████████████████████████▏                                  | 17/31 [1:47:43<1:24:45, 363.25s/it]"
     ]
    },
    {
     "name": "stdout",
     "output_type": "stream",
     "text": [
      "----\\\\FUNES\\Shared\\experiments\\E0030_long_term_adaptation\\210324_f3-----\n"
     ]
    },
    {
     "name": "stderr",
     "output_type": "stream",
     "text": [
      " 58%|████████████████████████████████████████████▋                                | 18/31 [1:51:22<1:09:19, 319.96s/it]"
     ]
    },
    {
     "name": "stdout",
     "output_type": "stream",
     "text": [
      "----\\\\FUNES\\Shared\\experiments\\E0030_long_term_adaptation\\210324_f4-----\n"
     ]
    },
    {
     "name": "stderr",
     "output_type": "stream",
     "text": [
      " 61%|████████████████████████████████████████████████▍                              | 19/31 [1:55:15<58:47, 293.98s/it]"
     ]
    },
    {
     "name": "stdout",
     "output_type": "stream",
     "text": [
      "----\\\\FUNES\\Shared\\experiments\\E0030_long_term_adaptation\\210324_f5-----\n"
     ]
    },
    {
     "name": "stderr",
     "output_type": "stream",
     "text": [
      " 65%|██████████████████████████████████████████████████▉                            | 20/31 [1:59:12<50:44, 276.79s/it]"
     ]
    },
    {
     "name": "stdout",
     "output_type": "stream",
     "text": [
      "----\\\\FUNES\\Shared\\experiments\\E0030_long_term_adaptation\\210324_f6-----\n"
     ]
    },
    {
     "name": "stderr",
     "output_type": "stream",
     "text": [
      " 68%|█████████████████████████████████████████████████████▌                         | 21/31 [2:03:13<44:20, 266.06s/it]"
     ]
    },
    {
     "name": "stdout",
     "output_type": "stream",
     "text": [
      "----\\\\FUNES\\Shared\\experiments\\E0030_long_term_adaptation\\210324_f7-----\n"
     ]
    },
    {
     "name": "stderr",
     "output_type": "stream",
     "text": [
      " 71%|████████████████████████████████████████████████████████                       | 22/31 [2:06:55<37:55, 252.80s/it]"
     ]
    },
    {
     "name": "stdout",
     "output_type": "stream",
     "text": [
      "----\\\\FUNES\\Shared\\experiments\\E0030_long_term_adaptation\\210325_f0-----\n"
     ]
    },
    {
     "name": "stderr",
     "output_type": "stream",
     "text": [
      " 74%|██████████████████████████████████████████████████████████▌                    | 23/31 [2:10:25<32:01, 240.21s/it]"
     ]
    },
    {
     "name": "stdout",
     "output_type": "stream",
     "text": [
      "----\\\\FUNES\\Shared\\experiments\\E0030_long_term_adaptation\\210325_f1-----\n"
     ]
    },
    {
     "name": "stderr",
     "output_type": "stream",
     "text": [
      " 77%|█████████████████████████████████████████████████████████████▏                 | 24/31 [2:14:10<27:29, 235.67s/it]"
     ]
    },
    {
     "name": "stdout",
     "output_type": "stream",
     "text": [
      "----\\\\FUNES\\Shared\\experiments\\E0030_long_term_adaptation\\210325_f2-----\n"
     ]
    },
    {
     "name": "stderr",
     "output_type": "stream",
     "text": [
      " 81%|███████████████████████████████████████████████████████████████▋               | 25/31 [2:17:55<23:13, 232.24s/it]"
     ]
    },
    {
     "name": "stdout",
     "output_type": "stream",
     "text": [
      "----\\\\FUNES\\Shared\\experiments\\E0030_long_term_adaptation\\210325_f3-----\n"
     ]
    },
    {
     "name": "stderr",
     "output_type": "stream",
     "text": [
      " 84%|██████████████████████████████████████████████████████████████████▎            | 26/31 [2:21:39<19:08, 229.76s/it]"
     ]
    },
    {
     "name": "stdout",
     "output_type": "stream",
     "text": [
      "----\\\\FUNES\\Shared\\experiments\\E0030_long_term_adaptation\\210325_f5-----\n"
     ]
    },
    {
     "name": "stderr",
     "output_type": "stream",
     "text": [
      " 87%|████████████████████████████████████████████████████████████████████▊          | 27/31 [2:25:39<15:32, 233.06s/it]"
     ]
    },
    {
     "name": "stdout",
     "output_type": "stream",
     "text": [
      "----\\\\FUNES\\Shared\\experiments\\E0030_long_term_adaptation\\210325_f7-----\n"
     ]
    },
    {
     "name": "stderr",
     "output_type": "stream",
     "text": [
      " 90%|███████████████████████████████████████████████████████████████████████▎       | 28/31 [2:28:58<11:08, 222.85s/it]"
     ]
    },
    {
     "name": "stdout",
     "output_type": "stream",
     "text": [
      "----\\\\FUNES\\Shared\\experiments\\E0030_long_term_adaptation\\210326_f0-----\n"
     ]
    },
    {
     "name": "stderr",
     "output_type": "stream",
     "text": [
      " 94%|█████████████████████████████████████████████████████████████████████████▉     | 29/31 [2:32:15<07:09, 214.83s/it]"
     ]
    },
    {
     "name": "stdout",
     "output_type": "stream",
     "text": [
      "----\\\\FUNES\\Shared\\experiments\\E0030_long_term_adaptation\\210326_f1-----\n"
     ]
    },
    {
     "name": "stderr",
     "output_type": "stream",
     "text": [
      " 97%|████████████████████████████████████████████████████████████████████████████▍  | 30/31 [2:35:28<03:28, 208.43s/it]"
     ]
    },
    {
     "name": "stdout",
     "output_type": "stream",
     "text": [
      "----\\\\FUNES\\Shared\\experiments\\E0030_long_term_adaptation\\210326_f2-----\n"
     ]
    },
    {
     "name": "stderr",
     "output_type": "stream",
     "text": [
      "100%|███████████████████████████████████████████████████████████████████████████████| 31/31 [2:39:00<00:00, 307.75s/it]\n"
     ]
    }
   ],
   "source": [
    "from tifffile import imwrite\n",
    "\n",
    "for file in tqdm(flist):\n",
    "    \n",
    "    print(f\"----{file}-----\")\n",
    "    try:\n",
    "        scope_info = Experiment(file)[\"imaging\"][\"microscope_config\"][\"lightsheet\"]\n",
    "        spacing = (scope_info[\"scanning\"][\"z\"][\"piezo_max\"] - scope_info[\"scanning\"][\"z\"][\"piezo_min\"]) / scope_info[\"scanning\"][\"triggering\"][\"n_planes\"]\n",
    "        \n",
    "        aligned = SplitDataset(file / \"aligned\")\n",
    "        # cmap = SplitDataset(file / \"correlation_map\")\n",
    "        stack = aligned[:200, :, :, :].mean(0)\n",
    "        imwrite(file / \"anatomy.tif\", stack.astype(np.uint16), resolution=(1/0.6, 1/0.6), imagej=True,\n",
    "                metadata={\"spacing\": spacing, 'unit': 'microns'})\n",
    "    except:\n",
    "        print(\"Error while procesing \", file)\n",
    "        "
   ]
  },
  {
   "cell_type": "code",
   "execution_count": 3,
   "metadata": {},
   "outputs": [],
   "source": [
    "# Grow ROIs\n",
    "from scipy.ndimage import gaussian_filter\n",
    "from fimpy.pipeline.roi_extraction import grow_rois\n",
    "\n",
    "time_lims = (100, 3000)\n",
    "settings = dict(\n",
    "    max_labels=50000,\n",
    "    max_radius=6,\n",
    "    corr_thresh_inc_dist=4,\n",
    "    max_investigate=100000,\n",
    "    min_area=20,\n",
    "    across_planes=True,\n",
    "    voxel_size=(10, 0.6, 0.6),\n",
    "    n_jobs=20)\n",
    "\n",
    "thr_percentile = 85\n",
    "thr_increment = 0.15\n",
    "# cmap_highpass_sigma = 50\n",
    "# cmap_lowpass_sigma = 2\n",
    "\n",
    "\n",
    "block_size = (1, 400, 600)\n",
    "padding = (0, 40, 40)"
   ]
  },
  {
   "cell_type": "code",
   "execution_count": 4,
   "metadata": {},
   "outputs": [],
   "source": [
    "%gui qt\n",
    "import napari"
   ]
  },
  {
   "cell_type": "code",
   "execution_count": 5,
   "metadata": {},
   "outputs": [
    {
     "name": "stderr",
     "output_type": "stream",
     "text": [
      "  0%|                                                                                           | 0/31 [00:00<?, ?it/s]c:\\users\\portugueslab\\software_infrastructure\\split_dataset\\split_dataset\\split_dataset.py:299: UserWarning: Existing directory\n",
      "  warnings.warn(\"Existing directory\")\n",
      "  3%|██▌                                                                            | 1/31 [19:54<9:57:04, 1194.16s/it]c:\\users\\portugueslab\\software_infrastructure\\split_dataset\\split_dataset\\split_dataset.py:299: UserWarning: Existing directory\n",
      "  warnings.warn(\"Existing directory\")\n",
      "100%|██████████████████████████████████████████████████████████████████████████████| 31/31 [9:28:57<00:00, 1101.23s/it]"
     ]
    },
    {
     "name": "stdout",
     "output_type": "stream",
     "text": [
      "Wall time: 9h 28min 57s\n"
     ]
    },
    {
     "name": "stderr",
     "output_type": "stream",
     "text": [
      "\n"
     ]
    }
   ],
   "source": [
    "%%time\n",
    "for file in tqdm(flist):\n",
    "    # load dataset and correlation map:\n",
    "    aligned = SplitDataset(file / \"aligned\")\n",
    "    cmap = SplitDataset(file / \"correlation_map\")[:, :, :]\n",
    "\n",
    "    # Highpass filter the correlation map, to improve cell detection:\n",
    "    #highpass_cmap = gaussian_filter(cmap, (0, cmap_lowpass_sigma, cmap_lowpass_sigma)) - gaussian_filter(cmap, (0, cmap_highpass_sigma, cmap_highpass_sigma))\n",
    "    \n",
    "    # Calculate correlation map threshold as a fixed percentile (imaging data type dependent!)\n",
    "    thr = np.percentile(cmap, thr_percentile)\n",
    "\n",
    "    settings[\"init_corr_thresh\"]= thr\n",
    "    settings[\"final_corr_threshold\"]= thr + thr_increment\n",
    "    \n",
    "    # Grow ROIs:\n",
    "    rois = grow_rois(aligned, cmap, blocksize=block_size, padding=padding, time_lims=time_lims, **settings) \n",
    "    # v = napari.view_image(highpass_cmap)\n",
    "    # v.add_image(highpass_cmap > thr)\n",
    "    #v.add_labels(rois)"
   ]
  },
  {
   "cell_type": "code",
   "execution_count": 6,
   "metadata": {},
   "outputs": [],
   "source": [
    "from fimpy.pipeline.roi_extraction import extract_traces\n",
    "import flammkuchen as fl"
   ]
  },
  {
   "cell_type": "code",
   "execution_count": 7,
   "metadata": {},
   "outputs": [],
   "source": [
    "file = flist[0]\n",
    "rois = fl.load(file / \"merged_rois.h5\")[\"stack_3D\"]"
   ]
  },
  {
   "cell_type": "code",
   "execution_count": 8,
   "metadata": {},
   "outputs": [
    {
     "data": {
      "text/plain": [
       "(7200, 20, 682, 1024)"
      ]
     },
     "execution_count": 8,
     "metadata": {},
     "output_type": "execute_result"
    }
   ],
   "source": [
    "aligned.shape"
   ]
  },
  {
   "cell_type": "code",
   "execution_count": 10,
   "metadata": {},
   "outputs": [
    {
     "name": "stderr",
     "output_type": "stream",
     "text": [
      "100%|█████████████████████████████████████████████████████████████████████████████| 31/31 [58:08:47<00:00, 6752.50s/it]"
     ]
    },
    {
     "name": "stdout",
     "output_type": "stream",
     "text": [
      "Wall time: 2d 10h 8min 47s\n"
     ]
    },
    {
     "name": "stderr",
     "output_type": "stream",
     "text": [
      "\n"
     ]
    }
   ],
   "source": [
    "%%time\n",
    "for file in tqdm(flist):\n",
    "    # load dataset and correlation map:\n",
    "    aligned = SplitDataset(file / \"aligned\")\n",
    "    rois = fl.load(file / \"merged_rois.h5\", \"/stack_3D\")\n",
    "    \n",
    "    # Fix detection of motion artefact-related ROIs in first and last planes\n",
    "    if len(np.unique(rois[0, :, :])) > 2000:\n",
    "        rois[0, :, :] = -1\n",
    "        \n",
    "    if len(np.unique(rois[-1, :, :])) > 1000:\n",
    "        rois[-1, :, :] = -1\n",
    "        \n",
    "    fl.save(file / \"merged_rois.h5\", dict(stack_3D=rois))\n",
    "    \n",
    "    # Grow ROIs:\n",
    "    traces = extract_traces(aligned, rois, block_duration=50) \n",
    "    # fl.save(file / \"traces.h5\", traces)"
   ]
  },
  {
   "cell_type": "markdown",
   "metadata": {},
   "source": [
    "## Export roi stacks"
   ]
  },
  {
   "cell_type": "code",
   "execution_count": 8,
   "metadata": {},
   "outputs": [],
   "source": [
    "from bouter import Experiment"
   ]
  },
  {
   "cell_type": "code",
   "execution_count": 12,
   "metadata": {},
   "outputs": [
    {
     "name": "stderr",
     "output_type": "stream",
     "text": [
      "100%|██████████████████████████████████████████████████████████████████████████████████| 31/31 [01:32<00:00,  2.97s/it]"
     ]
    },
    {
     "name": "stdout",
     "output_type": "stream",
     "text": [
      "Wall time: 1min 32s\n"
     ]
    },
    {
     "name": "stderr",
     "output_type": "stream",
     "text": [
      "\n"
     ]
    }
   ],
   "source": [
    "%%time\n",
    "for file in tqdm(flist):\n",
    "    # load dataset and correlation map:\n",
    "    aligned = SplitDataset(file / \"aligned\")\n",
    "    rois = fl.load(file / \"merged_rois.h5\", \"/stack_3D\")\n",
    "    \n",
    "    # Fix detection of motion artefact-related ROIs in first and last planes\n",
    "    # if len(np.unique(rois[0, :, :])) > 2000:\n",
    "    #     rois[0, :, :] = -1\n",
    "        \n",
    "    # if len(np.unique(rois[-1, :, :])) > 1000:\n",
    "    #    rois[-1, :, :] = -1\n",
    "    scope_info = Experiment(file)[\"imaging\"][\"microscope_config\"][\"lightsheet\"]\n",
    "    spacing = (scope_info[\"scanning\"][\"z\"][\"piezo_max\"] - scope_info[\"scanning\"][\"z\"][\"piezo_min\"]) / scope_info[\"scanning\"][\"triggering\"][\"n_planes\"]\n",
    "        \n",
    "    rois = fl.load(file / \"merged_rois.h5\", \"/stack_3D\")\n",
    "    # print(rois.min())\n",
    "    imwrite(file / \"rois.tif\", rois.astype(np.uint16), resolution=(1/0.6, 1/0.6), imagej=True,\n",
    "                metadata={\"spacing\": spacing, 'unit': 'microns'})\n",
    "    \n",
    "    # Grow ROIs:    # fl.save(file / \"traces.h5\", traces)"
   ]
  },
  {
   "cell_type": "code",
   "execution_count": null,
   "metadata": {},
   "outputs": [],
   "source": []
  }
 ],
 "metadata": {
  "kernelspec": {
   "display_name": "Python 3",
   "language": "python",
   "name": "python3"
  },
  "language_info": {
   "codemirror_mode": {
    "name": "ipython",
    "version": 3
   },
   "file_extension": ".py",
   "mimetype": "text/x-python",
   "name": "python",
   "nbconvert_exporter": "python",
   "pygments_lexer": "ipython3",
   "version": "3.7.6"
  }
 },
 "nbformat": 4,
 "nbformat_minor": 4
}
