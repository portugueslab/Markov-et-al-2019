{
 "cells": [
  {
   "cell_type": "markdown",
   "metadata": {},
   "source": [
    "# Convert suite2p output data"
   ]
  },
  {
   "cell_type": "code",
   "execution_count": null,
   "metadata": {},
   "outputs": [],
   "source": [
    "from matplotlib import pyplot as plt\n",
    "import numpy as np\n",
    "import flammkuchen as fl\n",
    "from pathlib import Path\n",
    "from tifffile import imwrite"
   ]
  },
  {
   "cell_type": "code",
   "execution_count": null,
   "metadata": {},
   "outputs": [],
   "source": [
    "def save_anatomy(dest, stack):\n",
    "    \"\"\" Utility function to save stack of consisten histogram rescaling\n",
    "    and metadata formatting required by CMTK.\n",
    "    \"\"\"\n",
    "    norm = stack - np.percentile(stack, 1)\n",
    "    norm[norm < 0] = 0\n",
    "    norm = norm / np.percentile(norm, 99.9)\n",
    "    norm[norm > 1] = 1\n",
    "    \n",
    "    norm *= 255\n",
    "    \n",
    "    imwrite(str(dest), norm[::-1, :, :].astype(np.uint8), resolution=(1/0.6, 1/0.6))\n",
    "    \n",
    "def save_rois(dest, stack):\n",
    "    \"\"\" Utility function to save stack of consisten histogram rescaling\n",
    "    and metadata formatting required by CMTK.\n",
    "    \"\"\"\n",
    "    \n",
    "    # Check for funny values in the stack:\n",
    "    if (stack < 0).sum() > 0 or (stack > 10000).sum() > 0:\n",
    "        raise ValueError\n",
    "    imwrite(str(dest), stack[::-1, :, :].astype(np.uint16), resolution=(1/0.6, 1/0.6))"
   ]
  },
  {
   "cell_type": "code",
   "execution_count": null,
   "metadata": {},
   "outputs": [],
   "source": [
    "# Loop over suite2p folders and restructure the suite2p data into a\n",
    "# 3D anatomy stack, a 3D ROI stack, and a h5 files with the cell traces.\n",
    "\n",
    "master_path = Path(\".../suite2p_batch200715\")\n",
    "paths = list(master_path.glob(\"*f[0-9]*\"))\n",
    "\n",
    "anatomy_path = master_path / \"anatomies\"\n",
    "rois_path = master_path / \"rois\"\n",
    "for p in [anatomy_path, rois_path]:\n",
    "    p.mkdir(exist_ok=True)\n",
    "\n",
    "for path in paths:\n",
    "    traces = np.load(path / \"F.npy\")[()]\n",
    "    iscell = np.load(path / \"iscell.npy\")\n",
    "    ops = np.load(path / \"ops.npy\", allow_pickle=True)[()]\n",
    "    stat = np.load(path / \"stat.npy\", allow_pickle=True)[()]\n",
    "\n",
    "    rois_stack = np.zeros((ops[\"nplanes\"],) + ops[\"refImg\"].shape)\n",
    "    \n",
    "    # Place ROIs in ROI stack:\n",
    "    k = 1\n",
    "    i = 0\n",
    "    plane = rois_stack[i, :, :]\n",
    "    for j, a in enumerate(stat):\n",
    "        ypix = a['ypix'].flatten()\n",
    "        xpix = a['xpix'].flatten()\n",
    "        if iscell[j, 0]:\n",
    "            rois_stack[a[\"iplane\"], ypix % rois_stack.shape[1], xpix % rois_stack.shape[2]] = k\n",
    "\n",
    "            k += 1\n",
    "            \n",
    "    # Create anatomy stack:\n",
    "    anatomy_stack = np.zeros((ops[\"nplanes\"],) + ops[\"refImg\"].shape)\n",
    "    flat_img = ops[\"meanImg\"]\n",
    "    n = [m // r for m, r in zip(flat_img.shape, ops[\"refImg\"].shape)]\n",
    "    # print(n[0], n[1])\n",
    "    for i_plane in range(ops[\"nplanes\"]):\n",
    "        # print(i_plane, (int(i_plane / n[1]), i_plane % n[1]))\n",
    "        img_idxs = (i_plane // n[1], i_plane % n[1])\n",
    "        anatomy_stack[i_plane, :, :] = flat_img[tuple([slice(idx*s, (idx + 1)*s) for idx, s in zip(img_idxs, anatomy_stack.shape[1:])])]\n",
    "        \n",
    "\n",
    "    save_anatomy(anatomy_path / f\"{path.name}_anatomy.tif\", anatomy_stack)\n",
    "    save_rois(rois_path / f\"{path.name}_roi.tif\", rois_stack)\n",
    "    # select traces:\n",
    "    traces_sel = traces[iscell[:, 0].astype(np.int) > 0, :]        \n",
    "    \n",
    "    fl.save(master_path / f\"exported_{path.name}.h5\", dict(traces=traces_sel, stack=rois_stack), compression=None)\n"
   ]
  }
 ],
 "metadata": {
  "kernelspec": {
   "display_name": "rplab",
   "language": "python",
   "name": "rplab"
  },
  "language_info": {
   "codemirror_mode": {
    "name": "ipython",
    "version": 3
   },
   "file_extension": ".py",
   "mimetype": "text/x-python",
   "name": "python",
   "nbconvert_exporter": "python",
   "pygments_lexer": "ipython3",
   "version": "3.8.3"
  }
 },
 "nbformat": 4,
 "nbformat_minor": 4
}
